{
 "cells": [
  {
   "cell_type": "code",
   "execution_count": 91,
   "metadata": {},
   "outputs": [],
   "source": [
    "import pandas as pd\n",
    "import numpy as np\n",
    "import matplotlib.pyplot as plt\n",
    "import seaborn as sns"
   ]
  },
  {
   "cell_type": "markdown",
   "metadata": {},
   "source": [
    "\n",
    "• Construya la tabla de frecuencias.\n",
    "• ¿Cuál es la temperatura más frecuente que se registra en la ciudad?\n",
    "• Interprete n4, f4, N4, F4\n",
    "• ¿Qué porcentaje de registros se encuentran entre 28 y 30 grados?\n",
    "• Realice un gráﬁco de barras\n",
    "• Realice un gráﬁco de ojiva\n",
    "\n",
    "**Diccionario**\n",
    "- xi: Etiquetas\n",
    "- ni: Frecuencia absoluta\n",
    "- fi: Frecuencia relativa\n",
    "- Ni: Frecuencia absoluta acumulada\n",
    "- Fi: Frecuencia relativa acumulada"
   ]
  },
  {
   "cell_type": "code",
   "execution_count": 92,
   "metadata": {},
   "outputs": [],
   "source": [
    "def sumar_acumulado(arre):\n",
    "    i = 1\n",
    "    n = len(arre)\n",
    "    while(i<n):\n",
    "        x = arre[i] + arre[i-1]\n",
    "        arre[i] = x\n",
    "        i=i+1\n",
    "    return arre;"
   ]
  },
  {
   "cell_type": "markdown",
   "metadata": {},
   "source": [
    "#### Tabla de frecuencia"
   ]
  },
  {
   "cell_type": "code",
   "execution_count": 93,
   "metadata": {},
   "outputs": [],
   "source": [
    "data = [32, 31, 28, 29, 33, 32, 31, 30, 31, 31, 27, 28, 29, 30, 32, 31, 31, 30, 30, 29, 29, 30, 30, 31, 30, 31, 34, 33, 33, 29, 29]\n",
    "data = pd.Series(data)"
   ]
  },
  {
   "cell_type": "code",
   "execution_count": 94,
   "metadata": {},
   "outputs": [
    {
     "data": {
      "text/plain": [
       "0    32\n",
       "1    31\n",
       "2    28\n",
       "3    29\n",
       "4    33\n",
       "5    30\n",
       "6    27\n",
       "7    34\n",
       "dtype: int64"
      ]
     },
     "execution_count": 94,
     "metadata": {},
     "output_type": "execute_result"
    }
   ],
   "source": [
    "etiquetas = pd.Series(data.unique())\n",
    "etiquetas"
   ]
  },
  {
   "cell_type": "code",
   "execution_count": 95,
   "metadata": {},
   "outputs": [
    {
     "data": {
      "text/plain": [
       "0    3\n",
       "1    8\n",
       "2    2\n",
       "3    6\n",
       "4    3\n",
       "5    7\n",
       "6    1\n",
       "7    1\n",
       "dtype: int64"
      ]
     },
     "execution_count": 95,
     "metadata": {},
     "output_type": "execute_result"
    }
   ],
   "source": [
    "#4) ni\n",
    "ni = data.value_counts()\n",
    "ni = ni.reindex(index=etiquetas)\n",
    "ni.index = etiquetas.index\n",
    "ni"
   ]
  },
  {
   "cell_type": "code",
   "execution_count": 96,
   "metadata": {},
   "outputs": [
    {
     "data": {
      "text/plain": [
       "31"
      ]
     },
     "execution_count": 96,
     "metadata": {},
     "output_type": "execute_result"
    }
   ],
   "source": [
    "total = np.sum(ni)\n",
    "total"
   ]
  },
  {
   "cell_type": "code",
   "execution_count": 97,
   "metadata": {},
   "outputs": [
    {
     "data": {
      "text/plain": [
       "0    0.096774\n",
       "1    0.258065\n",
       "2    0.064516\n",
       "3    0.193548\n",
       "4    0.096774\n",
       "5    0.225806\n",
       "6    0.032258\n",
       "7    0.032258\n",
       "dtype: float64"
      ]
     },
     "execution_count": 97,
     "metadata": {},
     "output_type": "execute_result"
    }
   ],
   "source": [
    "fi = ni/total\n",
    "fi"
   ]
  },
  {
   "cell_type": "code",
   "execution_count": 98,
   "metadata": {},
   "outputs": [
    {
     "data": {
      "text/plain": [
       "([3, 11, 13, 19, 22, 29, 30, 31],\n",
       " [0.0967741935483871,\n",
       "  0.3548387096774194,\n",
       "  0.41935483870967744,\n",
       "  0.6129032258064516,\n",
       "  0.7096774193548387,\n",
       "  0.935483870967742,\n",
       "  0.967741935483871,\n",
       "  1.0])"
      ]
     },
     "execution_count": 98,
     "metadata": {},
     "output_type": "execute_result"
    }
   ],
   "source": [
    "Ni = sumar_acumulado(list(ni))\n",
    "Fi = sumar_acumulado(list(fi))\n",
    "Ni, Fi"
   ]
  },
  {
   "cell_type": "code",
   "execution_count": 99,
   "metadata": {},
   "outputs": [
    {
     "data": {
      "text/html": [
       "<div>\n",
       "<style scoped>\n",
       "    .dataframe tbody tr th:only-of-type {\n",
       "        vertical-align: middle;\n",
       "    }\n",
       "\n",
       "    .dataframe tbody tr th {\n",
       "        vertical-align: top;\n",
       "    }\n",
       "\n",
       "    .dataframe thead th {\n",
       "        text-align: right;\n",
       "    }\n",
       "</style>\n",
       "<table border=\"1\" class=\"dataframe\">\n",
       "  <thead>\n",
       "    <tr style=\"text-align: right;\">\n",
       "      <th></th>\n",
       "      <th>xi</th>\n",
       "      <th>ni</th>\n",
       "      <th>fi</th>\n",
       "      <th>Ni</th>\n",
       "      <th>Fi</th>\n",
       "    </tr>\n",
       "  </thead>\n",
       "  <tbody>\n",
       "    <tr>\n",
       "      <th>0</th>\n",
       "      <td>32</td>\n",
       "      <td>3</td>\n",
       "      <td>0.096774</td>\n",
       "      <td>3</td>\n",
       "      <td>0.096774</td>\n",
       "    </tr>\n",
       "    <tr>\n",
       "      <th>1</th>\n",
       "      <td>31</td>\n",
       "      <td>8</td>\n",
       "      <td>0.258065</td>\n",
       "      <td>11</td>\n",
       "      <td>0.354839</td>\n",
       "    </tr>\n",
       "    <tr>\n",
       "      <th>2</th>\n",
       "      <td>28</td>\n",
       "      <td>2</td>\n",
       "      <td>0.064516</td>\n",
       "      <td>13</td>\n",
       "      <td>0.419355</td>\n",
       "    </tr>\n",
       "    <tr>\n",
       "      <th>3</th>\n",
       "      <td>29</td>\n",
       "      <td>6</td>\n",
       "      <td>0.193548</td>\n",
       "      <td>19</td>\n",
       "      <td>0.612903</td>\n",
       "    </tr>\n",
       "    <tr>\n",
       "      <th>4</th>\n",
       "      <td>33</td>\n",
       "      <td>3</td>\n",
       "      <td>0.096774</td>\n",
       "      <td>22</td>\n",
       "      <td>0.709677</td>\n",
       "    </tr>\n",
       "    <tr>\n",
       "      <th>5</th>\n",
       "      <td>30</td>\n",
       "      <td>7</td>\n",
       "      <td>0.225806</td>\n",
       "      <td>29</td>\n",
       "      <td>0.935484</td>\n",
       "    </tr>\n",
       "    <tr>\n",
       "      <th>6</th>\n",
       "      <td>27</td>\n",
       "      <td>1</td>\n",
       "      <td>0.032258</td>\n",
       "      <td>30</td>\n",
       "      <td>0.967742</td>\n",
       "    </tr>\n",
       "    <tr>\n",
       "      <th>7</th>\n",
       "      <td>34</td>\n",
       "      <td>1</td>\n",
       "      <td>0.032258</td>\n",
       "      <td>31</td>\n",
       "      <td>1.000000</td>\n",
       "    </tr>\n",
       "  </tbody>\n",
       "</table>\n",
       "</div>"
      ],
      "text/plain": [
       "   xi  ni        fi  Ni        Fi\n",
       "0  32   3  0.096774   3  0.096774\n",
       "1  31   8  0.258065  11  0.354839\n",
       "2  28   2  0.064516  13  0.419355\n",
       "3  29   6  0.193548  19  0.612903\n",
       "4  33   3  0.096774  22  0.709677\n",
       "5  30   7  0.225806  29  0.935484\n",
       "6  27   1  0.032258  30  0.967742\n",
       "7  34   1  0.032258  31  1.000000"
      ]
     },
     "execution_count": 99,
     "metadata": {},
     "output_type": "execute_result"
    }
   ],
   "source": [
    "dataF = {'xi':etiquetas, 'ni':ni, 'fi':fi,'Ni': Ni, 'Fi':Fi }\n",
    "dataF = pd.DataFrame(dataF)\n",
    "dataF"
   ]
  },
  {
   "cell_type": "code",
   "execution_count": 100,
   "metadata": {},
   "outputs": [
    {
     "data": {
      "text/plain": [
       "[Text(0, 0, '32'),\n",
       " Text(0, 0, '31'),\n",
       " Text(0, 0, '28'),\n",
       " Text(0, 0, '29'),\n",
       " Text(0, 0, '33'),\n",
       " Text(0, 0, '30'),\n",
       " Text(0, 0, '27'),\n",
       " Text(0, 0, '34')]"
      ]
     },
     "execution_count": 100,
     "metadata": {},
     "output_type": "execute_result"
    },
    {
     "data": {
      "image/png": "[encoded data removed]",
      "text/plain": [
       "<Figure size 432x288 with 1 Axes>"
      ]
     },
     "metadata": {
      "needs_background": "light"
     },
     "output_type": "display_data"
    }
   ],
   "source": [
    "y = dataF['ni']\n",
    "x = dataF['xi']\n",
    "fig, ax = plt.subplots()\n",
    "ax.bar(x,y)\n",
    "ax.set_ylabel('Numero de Temperaturas Repetidas')\n",
    "ax.set_xlabel('Grados')\n",
    "ax.set_title('Temperaturas en una ciudad')\n",
    "ax.set_xticklabels(x)"
   ]
  }
 ],
 "metadata": {
  "kernelspec": {
   "display_name": "Python 3",
   "language": "python",
   "name": "python3"
  },
  "language_info": {
   "codemirror_mode": {
    "name": "ipython",
    "version": 3
   },
   "file_extension": ".py",
   "mimetype": "text/x-python",
   "name": "python",
   "nbconvert_exporter": "python",
   "pygments_lexer": "ipython3",
   "version": "3.7.3"
  }
 },
 "nbformat": 4,
 "nbformat_minor": 2
}
