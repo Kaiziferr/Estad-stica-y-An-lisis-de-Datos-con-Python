{
 "cells": [
  {
   "cell_type": "code",
   "execution_count": 20,
   "metadata": {},
   "outputs": [
    {
     "name": "stderr",
     "output_type": "stream",
     "text": [
      "UsageError: Line magic function `%` not found.\n"
     ]
    }
   ],
   "source": [
    "import pandas as pd\n",
    "import numpy as np\n",
    "import matplotlib.pyplot as plt\n",
    "import seaborn as sns\n",
    "from numpy import log as ln\n",
    "% matplotlib inline"
   ]
  },
  {
   "cell_type": "markdown",
   "metadata": {},
   "source": [
    "Suponga que un instituto técnico enfrenta problemas ﬁnancieros y\n",
    "plantea un aumento en el costo de las matrículas. Es claro que ante\n",
    "un aumento del valor de la matrícula, los estudiantes que no tengan\n",
    "capacidad de pago pueden retirarse del instituto, lo que representa\n",
    "una perdida económica para este. Por esta razón es necesario que el\n",
    "instituto conozca el nivel de ingreso de los estudiantes para decidir\n",
    "sobre el aumento que no cause una deserción estudiantil.\n",
    "Con el ﬁn de conocer el nivel de ingreso de los estudiantes, el instituto\n",
    "planteó una encuesta donde 126 estudiantes suministraron el valor de\n",
    "sus ingresos mensuales."
   ]
  },
  {
   "cell_type": "markdown",
   "metadata": {},
   "source": [
    "**Diccionario de datos**\n",
    "- xi: Etiquetas\n",
    "- ni: Frecuencia absoluta\n",
    "- fi: Frecuencia relativa\n",
    "- Ni: Frecuencia absoluta acumulada\n",
    "- Fi: Frecuencia relativa acumulada"
   ]
  },
  {
   "cell_type": "code",
   "execution_count": 7,
   "metadata": {},
   "outputs": [],
   "source": [
    "def sumar_acumulado(arre):\n",
    "    i = 1\n",
    "    n = len(arre)\n",
    "    while(i<n):\n",
    "        x = arre[i] + arre[i-1]\n",
    "        arre[i] = x\n",
    "        i=i+1\n",
    "    return arre;"
   ]
  },
  {
   "cell_type": "code",
   "execution_count": 24,
   "metadata": {},
   "outputs": [],
   "source": [
    "data = [572.30,748.10,769.00,839.00,878.10,955.50,963.40,965.70,983.80,\n",
    "985.30,1002.80,1005.70,1013.20,1017.80,1019.40,1030.00,1036.80,1056.60,\n",
    "1061.20,1067.20,1075.70,1081.80,1100.80,1102.00,1120.70,1127.10,1135.40,\n",
    "1170.20,1179.60,1195.10,1208.20,1221.70,1228.60,1234.00,1247.90,1249.80,\n",
    "1272.00,1274.70,1299.80,1304.00,1312.90,1340.80,1350.30,1352.90,1374.80,\n",
    "1406.10,1409.30,1412.60,1418.40,1426.90,1427.60,1433.30,1441.10,1443.80,\n",
    "1459.50,1460.10,1477.60,1484.90,1491.70,1500.20,1500.60,1500.60,1506.40,\n",
    "1531.60,1540.20,1544.40,1552.80,1552.90,1557.80,1563.70,1564.20,1569.40,\n",
    "1581.30,1593.40,1594.80,1595.20,1605.20,1620.60,1626.80,1626.80,1648.20,\n",
    "1670.70,1687.40,1694.30,1711.80,1721.40,1731.90,1738.30,1438.80,1746.90,\n",
    "1777.90,1817.00,1846.70,1851.70,1857.50,1891.80,1898.10,1901.40,1930.80,\n",
    "1940.30,1954.10,1957.30,1974.00,1986.30,2002.70,2053.71,2065.50,2065.90,\n",
    "2107.70,2114.00,2120.40,2136.80,2212.50,2265.80,2273.70,2280.20,2297.00,\n",
    "2330.60,2535.60,2643.10,2723.70,2725.20,2956.40,3197.40,3234.70,3467.80]\n",
    "data = pd.Series(data)"
   ]
  },
  {
   "cell_type": "markdown",
   "metadata": {},
   "source": [
    "#### Numero intervalos"
   ]
  },
  {
   "cell_type": "code",
   "execution_count": 25,
   "metadata": {},
   "outputs": [
    {
     "data": {
      "text/plain": [
       "126"
      ]
     },
     "execution_count": 25,
     "metadata": {},
     "output_type": "execute_result"
    }
   ],
   "source": [
    "N = len(data)\n",
    "N"
   ]
  },
  {
   "cell_type": "code",
   "execution_count": 32,
   "metadata": {},
   "outputs": [
    {
     "name": "stdout",
     "output_type": "stream",
     "text": [
      "11.224972160321824\n",
      "7.931222798887958\n",
      "6.977279923499917\n",
      "7.0\n"
     ]
    }
   ],
   "source": [
    "#Forma numero 1\n",
    "m1 = np.sqrt(N)\n",
    "print(m1)\n",
    "#Forma numero 2\n",
    "m2 = 1+3.3*np.log10(N)\n",
    "print(m2)\n",
    "#Forma numero 3\n",
    "m3 =  ln(N)/ln(2)\n",
    "print(m3)\n",
    "m = m3\n",
    "if m1 < m3:\n",
    "    if m1 < m2:\n",
    "        m = m1\n",
    "    else:\n",
    "        m = m2\n",
    "elif m2 < m3:\n",
    "    m = m2\n",
    "m = round(m)   \n",
    "print(m)"
   ]
  },
  {
   "cell_type": "markdown",
   "metadata": {},
   "source": [
    "#### Rango"
   ]
  },
  {
   "cell_type": "code",
   "execution_count": 33,
   "metadata": {},
   "outputs": [
    {
     "data": {
      "text/plain": [
       "2895.5"
      ]
     },
     "execution_count": 33,
     "metadata": {},
     "output_type": "execute_result"
    }
   ],
   "source": [
    "rango = data.max() - data.min()\n",
    "rango"
   ]
  },
  {
   "cell_type": "markdown",
   "metadata": {},
   "source": [
    "#### Amplitud"
   ]
  },
  {
   "cell_type": "code",
   "execution_count": 34,
   "metadata": {},
   "outputs": [
    {
     "data": {
      "text/plain": [
       "413.643"
      ]
     },
     "execution_count": 34,
     "metadata": {},
     "output_type": "execute_result"
    }
   ],
   "source": [
    "c = round(rango / m,3)\n",
    "c "
   ]
  }
 ],
 "metadata": {
  "kernelspec": {
   "display_name": "Python 3",
   "language": "python",
   "name": "python3"
  },
  "language_info": {
   "codemirror_mode": {
    "name": "ipython",
    "version": 3
   },
   "file_extension": ".py",
   "mimetype": "text/x-python",
   "name": "python",
   "nbconvert_exporter": "python",
   "pygments_lexer": "ipython3",
   "version": "3.7.3"
  }
 },
 "nbformat": 4,
 "nbformat_minor": 2
}
